{
 "cells": [
  {
   "cell_type": "code",
   "execution_count": 8,
   "id": "04c88eb1",
   "metadata": {},
   "outputs": [
    {
     "name": "stdout",
     "output_type": "stream",
     "text": [
      "-: 'Interactive Shell Import Successfully' :-\n"
     ]
    }
   ],
   "source": [
    "from IPython.core.interactiveshell import InteractiveShell\n",
    "InteractiveShell.ast_node_interactivity = \"all\"\n",
    "\n",
    "print(\"-: 'Interactive Shell Import Successfully' :-\")"
   ]
  },
  {
   "cell_type": "code",
   "execution_count": 9,
   "id": "5989bf8f",
   "metadata": {},
   "outputs": [],
   "source": [
    "import pandas as pd\n",
    "import seaborn as sns\n",
    "import numpy as np\n",
    "import statsmodels.api as sm\n",
    "import statsmodels.formula.api as smf\n",
    "import statsmodels.stats.api as sms\n",
    "\n",
    "from scipy.stats import iqr\n",
    "from statsmodels.compat import lzip"
   ]
  },
  {
   "cell_type": "markdown",
   "id": "bde09248",
   "metadata": {},
   "source": [
    "# Python Assignment Part A"
   ]
  },
  {
   "cell_type": "code",
   "execution_count": 10,
   "id": "ba715cd5",
   "metadata": {},
   "outputs": [],
   "source": [
    "#Loading the data set to dataframe\n",
    "df_match = pd.read_excel(\"../data/IPL2023.xlsx\",0)\n",
    "df_ball = pd.read_excel(\"../data/IPL2023.xlsx\",1)"
   ]
  },
  {
   "cell_type": "markdown",
   "id": "6fb66722",
   "metadata": {},
   "source": [
    "### Data Frame Related Information"
   ]
  },
  {
   "cell_type": "code",
   "execution_count": 11,
   "id": "56022dcb",
   "metadata": {},
   "outputs": [
    {
     "name": "stdout",
     "output_type": "stream",
     "text": [
      "<class 'pandas.core.frame.DataFrame'>\n",
      "(74, 18)\n"
     ]
    }
   ],
   "source": [
    "print(type(df_match))\n",
    "print(df_match.shape)"
   ]
  },
  {
   "cell_type": "code",
   "execution_count": 12,
   "id": "45a4b85f",
   "metadata": {},
   "outputs": [
    {
     "name": "stdout",
     "output_type": "stream",
     "text": [
      "<class 'pandas.core.frame.DataFrame'>\n",
      "(17734, 19)\n"
     ]
    }
   ],
   "source": [
    "print(type(df_ball))\n",
    "print(df_ball.shape)"
   ]
  },
  {
   "cell_type": "code",
   "execution_count": 13,
   "id": "92239236",
   "metadata": {},
   "outputs": [
    {
     "name": "stdout",
     "output_type": "stream",
     "text": [
      "Match Info -: Index(['season', 'date', 'match_no', 'match_type', 'venue', 'location',\n",
      "       'team1', 'team2', 'toss_won', 'toss_decision', 'umpire1', 'umpire2',\n",
      "       'reserve_umpire', 'match_referee', 'winner', 'winner_runs',\n",
      "       'winner_wickets', 'man_of_match'],\n",
      "      dtype='object')\n",
      "____________________________________________________________________________________________________________\n",
      "Match each Ball Info -: Index(['match_no', 'ballnumber', 'inningno', 'over', 'outcome', 'inn1Team',\n",
      "       'inn2Team', 'bowl_team', 'bat_team', 'Bowler', 'Batsman', 'comment',\n",
      "       'Wicket', 'WideRuns', 'LegBye', 'NoBall', 'Bye', 'Runs1', 'bRuns'],\n",
      "      dtype='object')\n"
     ]
    }
   ],
   "source": [
    "print('Match Info -:',df_match.columns)\n",
    "print('____________________________________________________________________________________________________________')\n",
    "print('Match each Ball Info -:',df_ball.columns)"
   ]
  },
  {
   "cell_type": "code",
   "execution_count": 114,
   "id": "13966b9d",
   "metadata": {},
   "outputs": [
    {
     "data": {
      "text/plain": [
       "match_no      17734\n",
       "ballnumber    17734\n",
       "inningno      17734\n",
       "over          17734\n",
       "outcome       17734\n",
       "inn1Team      17734\n",
       "inn2Team      17734\n",
       "bowl_team     17734\n",
       "bat_team      17734\n",
       "Bowler        17734\n",
       "Batsman       17734\n",
       "comment       17734\n",
       "Wicket        17734\n",
       "WideRuns      17734\n",
       "LegBye        17734\n",
       "NoBall        17734\n",
       "Bye           17734\n",
       "Runs1         17734\n",
       "bRuns         17734\n",
       "dtype: int64"
      ]
     },
     "execution_count": 114,
     "metadata": {},
     "output_type": "execute_result"
    },
    {
     "data": {
      "text/plain": [
       "17734"
      ]
     },
     "execution_count": 114,
     "metadata": {},
     "output_type": "execute_result"
    },
    {
     "name": "stdout",
     "output_type": "stream",
     "text": [
      "0\n"
     ]
    }
   ],
   "source": [
    "df_ball.count()\n",
    "df_ball.shape[0]\n",
    "missing=df_ball.shape[0]-df_ball.count()\n",
    "print(np.count_nonzero(df_ball.isnull()))"
   ]
  },
  {
   "cell_type": "markdown",
   "id": "39d2ec71",
   "metadata": {},
   "source": [
    "## Question1 - Which player took the most wickets in IPL 2023? Is it same at the group stage?"
   ]
  },
  {
   "cell_type": "code",
   "execution_count": 113,
   "id": "de18ea66",
   "metadata": {
    "scrolled": true
   },
   "outputs": [
    {
     "name": "stdout",
     "output_type": "stream",
     "text": [
      "\"The player took most wickets in IPL 2023 is :-\"\n",
      "-------------------------------------------------------------------\n",
      "          Bowler  Wicket\n",
      "82  Mohit Sharma      35\n"
     ]
    }
   ],
   "source": [
    "grp_agg_by_Ball= df_ball.groupby('Bowler').agg(Wicket=('Wicket', 'sum')).reset_index()\n",
    "print('\"The player took most wickets in IPL 2023 is :-\"')\n",
    "print('-------------------------------------------------------------------')\n",
    "most_wicket = grp_agg_by_Ball.sort_values('Wicket').tail(1)\n",
    "print(most_wicket)"
   ]
  },
  {
   "cell_type": "code",
   "execution_count": 67,
   "id": "811a042a",
   "metadata": {},
   "outputs": [],
   "source": [
    "fulldata = pd.merge(df_match,df_ball,how='inner', left_on='match_no', right_on='match_no')"
   ]
  },
  {
   "cell_type": "code",
   "execution_count": 127,
   "id": "f9da86d3",
   "metadata": {},
   "outputs": [
    {
     "name": "stdout",
     "output_type": "stream",
     "text": [
      "\"The player took most wickets in Group Stage in IPL 2023 is :-\"\n",
      "-------------------------------------------------------------------\n",
      "         Bowler  Wicket\n",
      "99  Rashid Khan      26\n"
     ]
    }
   ],
   "source": [
    "groupstage =(mergedata['match_type']=='Group')\n",
    "groupstagedata=fulldata[groupstage]\n",
    "grpstg_agg_by_Ball= groupstagedata.groupby('Bowler').agg(Wicket=('Wicket', 'sum')).reset_index()\n",
    "print('\"The player took most wickets in Group Stage in IPL 2023 is :-\"')\n",
    "print('-------------------------------------------------------------------')\n",
    "most_wicket = grpstg_agg_by_Ball.sort_values('Wicket').tail(1)\n",
    "print(most_wicket)"
   ]
  },
  {
   "cell_type": "markdown",
   "id": "e5761e2a",
   "metadata": {},
   "source": [
    "## Question2 :Which team scored the second lowest team total in IPL 2023?"
   ]
  },
  {
   "cell_type": "code",
   "execution_count": 126,
   "id": "bc5d54d6",
   "metadata": {},
   "outputs": [
    {
     "name": "stdout",
     "output_type": "stream",
     "text": [
      "Total Runs Scrored by teams in IPL2023 :\n",
      "----------------------------------------------------------------------------------------------\n",
      "                      bat_team  Runs1  TotalRuns\n",
      "1               Delhi Capitals   2178       2178\n",
      "4         Lucknow Super Giants   2348       2348\n",
      "9          Sunrisers Hyderabad   2374       2374\n",
      "7             Rajasthan Royals   2414       2414\n",
      "3        Kolkata Knight Riders   2461       2461\n",
      "6                 Punjab Kings   2475       2475\n",
      "8  Royal Challengers Bangalore   2499       2499\n",
      "0          Chennai Super Kings   2715       2715\n",
      "5               Mumbai Indians   2869       2869\n",
      "2               Gujarat Titans   3049       3049\n",
      "----------------------------------------------------------------------------------------------\n",
      "Team Scored the 2nd lowest team in IPL2023 : Lucknow Super Giants : With total Runs - 2348\n"
     ]
    }
   ],
   "source": [
    "team_runs = df_ball[['bat_team','Runs1']]\n",
    "grp_by_total = (team_runs.groupby('bat_team').sum('Runs1')).reset_index()\n",
    "grp_by_total['TotalRuns'] = grp_by_total['Runs1']\n",
    "print('Total Runs Scrored by teams in IPL2023 :')\n",
    "print('----------------------------------------------------------------------------------------------')\n",
    "print((grp_by_total.sort_values('TotalRuns')))\n",
    "print('----------------------------------------------------------------------------------------------')\n",
    "print('Team Scored the 2nd lowest team in IPL2023 :',(grp_by_total.sort_values('TotalRuns')).iloc[1].bat_team, ': With total Runs -',(grp_by_total.sort_values('TotalRuns')).iloc[1].TotalRuns)"
   ]
  },
  {
   "cell_type": "markdown",
   "id": "2c7cb959",
   "metadata": {},
   "source": [
    "## Question2 :Best batsman if you consider only the 13th over?"
   ]
  },
  {
   "cell_type": "code",
   "execution_count": 199,
   "id": "fbd7862b",
   "metadata": {},
   "outputs": [
    {
     "name": "stdout",
     "output_type": "stream",
     "text": [
      "Best 13th Over Batsman in IPL 2023 -:  Shivam Dube\n"
     ]
    }
   ],
   "source": [
    "over_13_data = df_ball[df_ball['over'].between (13.1,13.6)]\n",
    "best_13th_over_batsman= over_13_data.groupby('Batsman').sum('bRun').reset_index().sort_values(['bRuns'],ascending=[False])\n",
    "print('Best 13th Over Batsman in IPL 2023 -:',best_13th_over_batsman.iloc[0].Batsman )"
   ]
  },
  {
   "cell_type": "markdown",
   "id": "ea07d474",
   "metadata": {},
   "source": [
    "## Question 10. Which day is better for Rohit Sharma as a batsman?"
   ]
  },
  {
   "cell_type": "code",
   "execution_count": 201,
   "id": "d7ac9297",
   "metadata": {},
   "outputs": [
    {
     "name": "stdout",
     "output_type": "stream",
     "text": [
      "The best day for Rohit Sharma as batsman in IPL 2023 -: 2023-04-11 00:00:00 with total scored -: 65 Runs\n"
     ]
    }
   ],
   "source": [
    "rohit_sharma =  fulldata[fulldata['Batsman'].str.strip()=='Rohit Sharma']\n",
    "rohit_best = rohit_sharma.groupby('date').sum('bRun').sort_values(['bRuns'],ascending=[False]).reset_index()\n",
    "print('The best day for Rohit Sharma as batsman in IPL 2023 -:',rohit_best.iloc[0].date, 'with total scored -:',rohit_best.iloc[0].bRuns,'Runs' )"
   ]
  },
  {
   "cell_type": "code",
   "execution_count": null,
   "id": "0d8062e0",
   "metadata": {},
   "outputs": [],
   "source": []
  },
  {
   "cell_type": "code",
   "execution_count": null,
   "id": "cd6e5343",
   "metadata": {},
   "outputs": [],
   "source": []
  },
  {
   "cell_type": "code",
   "execution_count": null,
   "id": "8a866021",
   "metadata": {},
   "outputs": [],
   "source": []
  },
  {
   "cell_type": "code",
   "execution_count": null,
   "id": "cfff978b",
   "metadata": {},
   "outputs": [],
   "source": []
  },
  {
   "cell_type": "markdown",
   "id": "271c2245",
   "metadata": {},
   "source": []
  },
  {
   "cell_type": "code",
   "execution_count": null,
   "id": "34a66597",
   "metadata": {},
   "outputs": [],
   "source": []
  },
  {
   "cell_type": "code",
   "execution_count": null,
   "id": "3d9433c0",
   "metadata": {},
   "outputs": [],
   "source": []
  },
  {
   "cell_type": "code",
   "execution_count": null,
   "id": "625d19c0",
   "metadata": {},
   "outputs": [],
   "source": []
  },
  {
   "cell_type": "code",
   "execution_count": null,
   "id": "8e8255fc",
   "metadata": {},
   "outputs": [],
   "source": []
  },
  {
   "cell_type": "markdown",
   "id": "96a16f8f",
   "metadata": {},
   "source": [
    "# Python Assignment Part B"
   ]
  },
  {
   "cell_type": "code",
   "execution_count": 208,
   "id": "355cf6fc",
   "metadata": {},
   "outputs": [],
   "source": [
    "#Loading the data set to dataframe\n",
    "df_auto = pd.read_csv(\"../data/Auto.csv\")"
   ]
  },
  {
   "cell_type": "code",
   "execution_count": 229,
   "id": "df28d360",
   "metadata": {},
   "outputs": [
    {
     "name": "stdout",
     "output_type": "stream",
     "text": [
      "First five records: \n"
     ]
    },
    {
     "data": {
      "text/html": [
       "<div>\n",
       "<style scoped>\n",
       "    .dataframe tbody tr th:only-of-type {\n",
       "        vertical-align: middle;\n",
       "    }\n",
       "\n",
       "    .dataframe tbody tr th {\n",
       "        vertical-align: top;\n",
       "    }\n",
       "\n",
       "    .dataframe thead th {\n",
       "        text-align: right;\n",
       "    }\n",
       "</style>\n",
       "<table border=\"1\" class=\"dataframe\">\n",
       "  <thead>\n",
       "    <tr style=\"text-align: right;\">\n",
       "      <th></th>\n",
       "      <th>mpg</th>\n",
       "      <th>cylinders</th>\n",
       "      <th>displacement</th>\n",
       "      <th>horsepower</th>\n",
       "      <th>weight</th>\n",
       "      <th>acceleration</th>\n",
       "      <th>year</th>\n",
       "      <th>origin</th>\n",
       "      <th>name</th>\n",
       "    </tr>\n",
       "  </thead>\n",
       "  <tbody>\n",
       "    <tr>\n",
       "      <th>0</th>\n",
       "      <td>18.0</td>\n",
       "      <td>8</td>\n",
       "      <td>307.0</td>\n",
       "      <td>130.0</td>\n",
       "      <td>3504</td>\n",
       "      <td>12.0</td>\n",
       "      <td>70</td>\n",
       "      <td>American</td>\n",
       "      <td>chevrolet chevelle malibu</td>\n",
       "    </tr>\n",
       "    <tr>\n",
       "      <th>1</th>\n",
       "      <td>15.0</td>\n",
       "      <td>8</td>\n",
       "      <td>350.0</td>\n",
       "      <td>165.0</td>\n",
       "      <td>3693</td>\n",
       "      <td>11.5</td>\n",
       "      <td>70</td>\n",
       "      <td>American</td>\n",
       "      <td>buick skylark 320</td>\n",
       "    </tr>\n",
       "    <tr>\n",
       "      <th>2</th>\n",
       "      <td>18.0</td>\n",
       "      <td>8</td>\n",
       "      <td>318.0</td>\n",
       "      <td>150.0</td>\n",
       "      <td>3436</td>\n",
       "      <td>11.0</td>\n",
       "      <td>70</td>\n",
       "      <td>American</td>\n",
       "      <td>plymouth satellite</td>\n",
       "    </tr>\n",
       "    <tr>\n",
       "      <th>3</th>\n",
       "      <td>16.0</td>\n",
       "      <td>8</td>\n",
       "      <td>304.0</td>\n",
       "      <td>150.0</td>\n",
       "      <td>3433</td>\n",
       "      <td>12.0</td>\n",
       "      <td>70</td>\n",
       "      <td>American</td>\n",
       "      <td>amc rebel sst</td>\n",
       "    </tr>\n",
       "    <tr>\n",
       "      <th>4</th>\n",
       "      <td>17.0</td>\n",
       "      <td>8</td>\n",
       "      <td>302.0</td>\n",
       "      <td>140.0</td>\n",
       "      <td>3449</td>\n",
       "      <td>10.5</td>\n",
       "      <td>70</td>\n",
       "      <td>American</td>\n",
       "      <td>ford torino</td>\n",
       "    </tr>\n",
       "  </tbody>\n",
       "</table>\n",
       "</div>"
      ],
      "text/plain": [
       "    mpg  cylinders  displacement  horsepower  weight  acceleration  year  \\\n",
       "0  18.0          8         307.0       130.0    3504          12.0    70   \n",
       "1  15.0          8         350.0       165.0    3693          11.5    70   \n",
       "2  18.0          8         318.0       150.0    3436          11.0    70   \n",
       "3  16.0          8         304.0       150.0    3433          12.0    70   \n",
       "4  17.0          8         302.0       140.0    3449          10.5    70   \n",
       "\n",
       "     origin                       name  \n",
       "0  American  chevrolet chevelle malibu  \n",
       "1  American          buick skylark 320  \n",
       "2  American         plymouth satellite  \n",
       "3  American              amc rebel sst  \n",
       "4  American                ford torino  "
      ]
     },
     "execution_count": 229,
     "metadata": {},
     "output_type": "execute_result"
    },
    {
     "name": "stdout",
     "output_type": "stream",
     "text": [
      "-------------------------------------------------------------------\n",
      "Dataframe Shape : (397, 9)\n",
      "-------------------------------------------------------------------\n",
      "<class 'pandas.core.frame.DataFrame'>\n",
      "RangeIndex: 397 entries, 0 to 396\n",
      "Data columns (total 9 columns):\n",
      " #   Column        Non-Null Count  Dtype  \n",
      "---  ------        --------------  -----  \n",
      " 0   mpg           397 non-null    float64\n",
      " 1   cylinders     397 non-null    int64  \n",
      " 2   displacement  397 non-null    float64\n",
      " 3   horsepower    392 non-null    float64\n",
      " 4   weight        397 non-null    int64  \n",
      " 5   acceleration  397 non-null    float64\n",
      " 6   year          397 non-null    int64  \n",
      " 7   origin        397 non-null    object \n",
      " 8   name          397 non-null    object \n",
      "dtypes: float64(4), int64(3), object(2)\n",
      "memory usage: 28.0+ KB\n"
     ]
    }
   ],
   "source": [
    "print('First five records: ')\n",
    "df_auto.head(5)\n",
    "print('-------------------------------------------------------------------')\n",
    "print(\"Dataframe Shape :\",df_auto.shape)\n",
    "print('-------------------------------------------------------------------')\n",
    "df_auto.info()"
   ]
  },
  {
   "cell_type": "code",
   "execution_count": 232,
   "id": "45c3907b",
   "metadata": {},
   "outputs": [
    {
     "name": "stdout",
     "output_type": "stream",
     "text": [
      "Finding missing values column wise\n"
     ]
    },
    {
     "data": {
      "text/plain": [
       "mpg             397\n",
       "cylinders       397\n",
       "displacement    397\n",
       "horsepower      392\n",
       "weight          397\n",
       "acceleration    397\n",
       "year            397\n",
       "origin          397\n",
       "name            397\n",
       "dtype: int64"
      ]
     },
     "execution_count": 232,
     "metadata": {},
     "output_type": "execute_result"
    },
    {
     "name": "stdout",
     "output_type": "stream",
     "text": [
      "-------------------------------------------------------------------\n"
     ]
    },
    {
     "data": {
      "text/plain": [
       "mpg             0\n",
       "cylinders       0\n",
       "displacement    0\n",
       "horsepower      5\n",
       "weight          0\n",
       "acceleration    0\n",
       "year            0\n",
       "origin          0\n",
       "name            0\n",
       "dtype: int64"
      ]
     },
     "execution_count": 232,
     "metadata": {},
     "output_type": "execute_result"
    },
    {
     "name": "stdout",
     "output_type": "stream",
     "text": [
      "-------------------------------------------------------------------\n"
     ]
    }
   ],
   "source": [
    "print(\"Finding missing values column wise\")\n",
    "df_auto.count()\n",
    "print('-------------------------------------------------------------------')\n",
    "missing=df_auto.shape[0]-df_auto.count()\n",
    "missing\n",
    "print('-------------------------------------------------------------------')"
   ]
  },
  {
   "cell_type": "code",
   "execution_count": 216,
   "id": "dbfdffdf",
   "metadata": {},
   "outputs": [
    {
     "name": "stdout",
     "output_type": "stream",
     "text": [
      "5\n"
     ]
    }
   ],
   "source": []
  },
  {
   "cell_type": "code",
   "execution_count": null,
   "id": "313d2564",
   "metadata": {},
   "outputs": [],
   "source": []
  }
 ],
 "metadata": {
  "kernelspec": {
   "display_name": "Python 3 (ipykernel)",
   "language": "python",
   "name": "python3"
  },
  "language_info": {
   "codemirror_mode": {
    "name": "ipython",
    "version": 3
   },
   "file_extension": ".py",
   "mimetype": "text/x-python",
   "name": "python",
   "nbconvert_exporter": "python",
   "pygments_lexer": "ipython3",
   "version": "3.12.3"
  }
 },
 "nbformat": 4,
 "nbformat_minor": 5
}
